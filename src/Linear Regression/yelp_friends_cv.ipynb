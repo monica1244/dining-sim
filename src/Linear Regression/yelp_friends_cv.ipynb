{
 "cells": [
  {
   "cell_type": "code",
   "execution_count": 16,
   "metadata": {
    "colab": {
     "base_uri": "https://localhost:8080/",
     "height": 34
    },
    "colab_type": "code",
    "id": "VF-wICsESu_c",
    "outputId": "38e39674-a1de-4ad5-d290-20e217f9ccaf"
   },
   "outputs": [
    {
     "name": "stdout",
     "output_type": "stream",
     "text": [
      "Mounted at /content/drive\n"
     ]
    }
   ],
   "source": [
    "from google.colab import drive\n",
    "drive.mount('/content/drive', force_remount=True)"
   ]
  },
  {
   "cell_type": "code",
   "execution_count": 26,
   "metadata": {
    "colab": {},
    "colab_type": "code",
    "id": "1kKmNLgP4ERl"
   },
   "outputs": [],
   "source": [
    "import numpy as np\n",
    "from math import sqrt\n",
    "import matplotlib.pyplot as plt\n",
    "from sklearn.linear_model import SGDClassifier\n",
    "import progressbar\n",
    "import json\n",
    "import pandas as pd\n",
    "\n",
    "np.random.seed(584)"
   ]
  },
  {
   "cell_type": "code",
   "execution_count": 27,
   "metadata": {
    "colab": {},
    "colab_type": "code",
    "id": "vtD8NN533901"
   },
   "outputs": [],
   "source": [
    "review_json = open('../yelp-dataset/yelp_academic_dataset_review.json',encoding=\"utf8\")\n"
   ]
  },
  {
   "cell_type": "markdown",
   "metadata": {
    "colab_type": "text",
    "id": "52wsvL80JiAb"
   },
   "source": []
  },
  {
   "cell_type": "code",
   "execution_count": 28,
   "metadata": {
    "colab": {},
    "colab_type": "code",
    "id": "HOcrZWER2Yd6"
   },
   "outputs": [],
   "source": [
    "num_reviews=1000000\n",
    "reviews_list = list()\n",
    "user_dict = {}\n",
    "business_dict = {}\n",
    "count_u = 0\n",
    "count_b = 0\n"
   ]
  },
  {
   "cell_type": "code",
   "execution_count": 29,
   "metadata": {
    "colab": {
     "base_uri": "https://localhost:8080/",
     "height": 323
    },
    "colab_type": "code",
    "id": "BPtoRHXMSspa",
    "outputId": "35749317-c478-4ad0-bde7-ea8efd02bf9b"
   },
   "outputs": [
    {
     "name": "stdout",
     "output_type": "stream",
     "text": [
      "                     review_id                 user_id  \\\n",
      "0       Q1sbwvVQXV2734tPgoKj4Q  hG7b0MtEbXx5QzbzE6C_VA   \n",
      "1       GJXCdrto3ASJOqKeVWPi6Q  yXQM5uF2jS6es16SJzNHfg   \n",
      "2       2TzJjDVDEuAW6MR5Vuc1ug  n6-Gk65cPZL6Uz8qRm3NYw   \n",
      "3       yi0R0Ugj_xUx_Nek0-_Qig  dacAIZ6fTM6mqwW5uxkskg   \n",
      "4       11a8sVPMUFtaC7_ABRkmtw  ssoyf2_x0EQMed6fgHeMyQ   \n",
      "...                        ...                     ...   \n",
      "999995  YYW_A_KNbjZg3hiDYwrgVQ  xceJT1G2Yhel3W2lRxRTDA   \n",
      "999996  ZCgKS8NIg3xIlIlGt_HEuQ  4TCOItk-gIJROyNA5ftZ-Q   \n",
      "999997  5_xWTfueFODk1a_DExOdiw  lLaBZ1rj4ix2gDm7TBTfiQ   \n",
      "999998  YUEH9xGb8kzYoQbEgdo3Ow  munwYMyAjs_Dg9LI9t38Qw   \n",
      "999999  yS0Fgp9qpYdznVBLcH05pQ  WIA4cYshdcmGfkm5hqzC_w   \n",
      "\n",
      "                   business_id  stars  \n",
      "0       ujmEBvifdJM6h6RLv4wQIg    1.0  \n",
      "1       NZnhc2sEQy3RmzKTZnqtwQ    5.0  \n",
      "2       WTqjgwHlXbSFevF32_DJVw    5.0  \n",
      "3       ikCg8xy5JIg_NGPx-MSIDA    5.0  \n",
      "4       b1b1eb3uo-w561D0ZfCEiQ    1.0  \n",
      "...                        ...    ...  \n",
      "999995  gAWY4P6a9YoWrWTvk_7rLg    5.0  \n",
      "999996  tUsqTg8FWA37DeyaGcBMbg    5.0  \n",
      "999997  -cOVyWUJlasj-wpMAaWwvQ    5.0  \n",
      "999998  5dH3vZY2wHF4TNa3oGRH7A    1.0  \n",
      "999999  l1EzeGkWmLzAf9F1bAlFRQ    5.0  \n",
      "\n",
      "[1000000 rows x 4 columns]\n",
      "Users:\n",
      "504870\n",
      "Businesses\n",
      "37619\n"
     ]
    }
   ],
   "source": [
    "for i, line in enumerate(review_json):\n",
    "    if i == num_reviews:\n",
    "        break\n",
    "    data = json.loads(line)\n",
    "    # extract fields\n",
    "\n",
    "    review_id = data['review_id']\n",
    "    \n",
    "        \n",
    "    user_id = data['user_id']\n",
    "\n",
    "    business_id = data['business_id']\n",
    "    \n",
    "    stars = data['stars']\n",
    "    if user_id not in user_dict:\n",
    "        user_dict[user_id] = count_u\n",
    "        count_u += 1\n",
    "    if business_id not in business_dict:\n",
    "        business_dict[business_id] = count_b\n",
    "        count_b += 1\n",
    "    # add to the data\n",
    "    reviews_list.append([review_id,user_id,business_id,stars])\n",
    "  \n",
    "    \n",
    "df_review = pd.DataFrame(reviews_list, columns=['review_id','user_id','business_id','stars'])\n",
    "print(df_review)\n",
    "print(\"Users:\")\n",
    "print(count_u)\n",
    "print(\"Businesses\")\n",
    "print(count_b)\n"
   ]
  },
  {
   "cell_type": "code",
   "execution_count": 30,
   "metadata": {
    "colab": {},
    "colab_type": "code",
    "id": "haPQHz8nTaSG"
   },
   "outputs": [],
   "source": [
    "user_friends = pd.read_json('../yelp-dataset/yelp_academic_dataset_user.json', lines=True)\n"
   ]
  },
  {
   "cell_type": "code",
   "execution_count": 31,
   "metadata": {
    "colab": {},
    "colab_type": "code",
    "id": "EHMvYsVjVAmD"
   },
   "outputs": [],
   "source": [
    "user_friends = user_friends[['user_id','friends']]"
   ]
  },
  {
   "cell_type": "code",
   "execution_count": 32,
   "metadata": {
    "colab": {},
    "colab_type": "code",
    "id": "QRlHfehOVbBN"
   },
   "outputs": [],
   "source": [
    "df_review_users = df_review.merge(user_friends, on=['user_id'], how='left')\n",
    "del user_friends"
   ]
  },
  {
   "cell_type": "code",
   "execution_count": 33,
   "metadata": {
    "colab": {},
    "colab_type": "code",
    "id": "P-KLKouUrK6a"
   },
   "outputs": [],
   "source": [
    "df_review_users.loc[df_review_users['friends'] == 'None', 'friends'] = ''\n",
    "df_review_copy = df_review_users[['user_id','business_id']]\n",
    "df_review_copy=df_review_copy.groupby(['user_id', 'business_id']).size().reset_index(name='counts')"
   ]
  },
  {
   "cell_type": "code",
   "execution_count": 34,
   "metadata": {
    "colab": {
     "base_uri": "https://localhost:8080/",
     "height": 419
    },
    "colab_type": "code",
    "id": "YY2Hp2e77e84",
    "outputId": "fe81283d-a364-4dfa-f4f1-132f7919d349"
   },
   "outputs": [
    {
     "data": {
      "text/html": [
       "<div>\n",
       "<style scoped>\n",
       "    .dataframe tbody tr th:only-of-type {\n",
       "        vertical-align: middle;\n",
       "    }\n",
       "\n",
       "    .dataframe tbody tr th {\n",
       "        vertical-align: top;\n",
       "    }\n",
       "\n",
       "    .dataframe thead th {\n",
       "        text-align: right;\n",
       "    }\n",
       "</style>\n",
       "<table border=\"1\" class=\"dataframe\">\n",
       "  <thead>\n",
       "    <tr style=\"text-align: right;\">\n",
       "      <th></th>\n",
       "      <th>friends</th>\n",
       "      <th>review_id</th>\n",
       "      <th>user_id</th>\n",
       "      <th>business_id</th>\n",
       "    </tr>\n",
       "  </thead>\n",
       "  <tbody>\n",
       "    <tr>\n",
       "      <td>0</td>\n",
       "      <td>frQs7y5qa-X1pvAM0sJe1w</td>\n",
       "      <td>Q1sbwvVQXV2734tPgoKj4Q</td>\n",
       "      <td>hG7b0MtEbXx5QzbzE6C_VA</td>\n",
       "      <td>ujmEBvifdJM6h6RLv4wQIg</td>\n",
       "    </tr>\n",
       "    <tr>\n",
       "      <td>1</td>\n",
       "      <td>6IAFtw20e4y99D2cA3jj9g, 33O8Q0BdTl-PXh2lKceYgg...</td>\n",
       "      <td>GJXCdrto3ASJOqKeVWPi6Q</td>\n",
       "      <td>yXQM5uF2jS6es16SJzNHfg</td>\n",
       "      <td>NZnhc2sEQy3RmzKTZnqtwQ</td>\n",
       "    </tr>\n",
       "    <tr>\n",
       "      <td>2</td>\n",
       "      <td>9YRFLVFVbHGAJ1weFx5zqw, hUgdQsMQPoNc3fa9VoMqWQ</td>\n",
       "      <td>2TzJjDVDEuAW6MR5Vuc1ug</td>\n",
       "      <td>n6-Gk65cPZL6Uz8qRm3NYw</td>\n",
       "      <td>WTqjgwHlXbSFevF32_DJVw</td>\n",
       "    </tr>\n",
       "    <tr>\n",
       "      <td>3</td>\n",
       "      <td>zWEBQSaDqrB9l8AWGy06DQ, VDFV_x-IyCNkgtr2EB-VLw...</td>\n",
       "      <td>yi0R0Ugj_xUx_Nek0-_Qig</td>\n",
       "      <td>dacAIZ6fTM6mqwW5uxkskg</td>\n",
       "      <td>ikCg8xy5JIg_NGPx-MSIDA</td>\n",
       "    </tr>\n",
       "    <tr>\n",
       "      <td>4</td>\n",
       "      <td>jrw1jRpoRgK6ZQ4Z5_hPng, GJgchmwqQghjuG14uWgIOA...</td>\n",
       "      <td>11a8sVPMUFtaC7_ABRkmtw</td>\n",
       "      <td>ssoyf2_x0EQMed6fgHeMyQ</td>\n",
       "      <td>b1b1eb3uo-w561D0ZfCEiQ</td>\n",
       "    </tr>\n",
       "    <tr>\n",
       "      <td>...</td>\n",
       "      <td>...</td>\n",
       "      <td>...</td>\n",
       "      <td>...</td>\n",
       "      <td>...</td>\n",
       "    </tr>\n",
       "    <tr>\n",
       "      <td>999995</td>\n",
       "      <td>TNo1aPj4p9mXkHBR0uHfEg, Nhm9A07I_Fv18IYKAoboxQ...</td>\n",
       "      <td>YYW_A_KNbjZg3hiDYwrgVQ</td>\n",
       "      <td>xceJT1G2Yhel3W2lRxRTDA</td>\n",
       "      <td>gAWY4P6a9YoWrWTvk_7rLg</td>\n",
       "    </tr>\n",
       "    <tr>\n",
       "      <td>999996</td>\n",
       "      <td>ft7gnDgdY6v2i1mKddqcnw, Rqyopl4UX2Yuksn97yR2PQ...</td>\n",
       "      <td>ZCgKS8NIg3xIlIlGt_HEuQ</td>\n",
       "      <td>4TCOItk-gIJROyNA5ftZ-Q</td>\n",
       "      <td>tUsqTg8FWA37DeyaGcBMbg</td>\n",
       "    </tr>\n",
       "    <tr>\n",
       "      <td>999997</td>\n",
       "      <td>PyiW-GUWXcC7wKzls2Xvyw, kdBjulpR7eaon3ghOXeEEg...</td>\n",
       "      <td>5_xWTfueFODk1a_DExOdiw</td>\n",
       "      <td>lLaBZ1rj4ix2gDm7TBTfiQ</td>\n",
       "      <td>-cOVyWUJlasj-wpMAaWwvQ</td>\n",
       "    </tr>\n",
       "    <tr>\n",
       "      <td>999998</td>\n",
       "      <td>lAmzD7gAxaaOcYC_zCNn4w, QQTUBWVFJSsWvv_JCr2z2Q...</td>\n",
       "      <td>YUEH9xGb8kzYoQbEgdo3Ow</td>\n",
       "      <td>munwYMyAjs_Dg9LI9t38Qw</td>\n",
       "      <td>5dH3vZY2wHF4TNa3oGRH7A</td>\n",
       "    </tr>\n",
       "    <tr>\n",
       "      <td>999999</td>\n",
       "      <td>h_7frONGITnmvh43t4YoVQ, ZdCA0evJl9A-omQBvCjayQ...</td>\n",
       "      <td>yS0Fgp9qpYdznVBLcH05pQ</td>\n",
       "      <td>WIA4cYshdcmGfkm5hqzC_w</td>\n",
       "      <td>l1EzeGkWmLzAf9F1bAlFRQ</td>\n",
       "    </tr>\n",
       "  </tbody>\n",
       "</table>\n",
       "<p>1000000 rows × 4 columns</p>\n",
       "</div>"
      ],
      "text/plain": [
       "                                                  friends  \\\n",
       "0                                  frQs7y5qa-X1pvAM0sJe1w   \n",
       "1       6IAFtw20e4y99D2cA3jj9g, 33O8Q0BdTl-PXh2lKceYgg...   \n",
       "2          9YRFLVFVbHGAJ1weFx5zqw, hUgdQsMQPoNc3fa9VoMqWQ   \n",
       "3       zWEBQSaDqrB9l8AWGy06DQ, VDFV_x-IyCNkgtr2EB-VLw...   \n",
       "4       jrw1jRpoRgK6ZQ4Z5_hPng, GJgchmwqQghjuG14uWgIOA...   \n",
       "...                                                   ...   \n",
       "999995  TNo1aPj4p9mXkHBR0uHfEg, Nhm9A07I_Fv18IYKAoboxQ...   \n",
       "999996  ft7gnDgdY6v2i1mKddqcnw, Rqyopl4UX2Yuksn97yR2PQ...   \n",
       "999997  PyiW-GUWXcC7wKzls2Xvyw, kdBjulpR7eaon3ghOXeEEg...   \n",
       "999998  lAmzD7gAxaaOcYC_zCNn4w, QQTUBWVFJSsWvv_JCr2z2Q...   \n",
       "999999  h_7frONGITnmvh43t4YoVQ, ZdCA0evJl9A-omQBvCjayQ...   \n",
       "\n",
       "                     review_id                 user_id             business_id  \n",
       "0       Q1sbwvVQXV2734tPgoKj4Q  hG7b0MtEbXx5QzbzE6C_VA  ujmEBvifdJM6h6RLv4wQIg  \n",
       "1       GJXCdrto3ASJOqKeVWPi6Q  yXQM5uF2jS6es16SJzNHfg  NZnhc2sEQy3RmzKTZnqtwQ  \n",
       "2       2TzJjDVDEuAW6MR5Vuc1ug  n6-Gk65cPZL6Uz8qRm3NYw  WTqjgwHlXbSFevF32_DJVw  \n",
       "3       yi0R0Ugj_xUx_Nek0-_Qig  dacAIZ6fTM6mqwW5uxkskg  ikCg8xy5JIg_NGPx-MSIDA  \n",
       "4       11a8sVPMUFtaC7_ABRkmtw  ssoyf2_x0EQMed6fgHeMyQ  b1b1eb3uo-w561D0ZfCEiQ  \n",
       "...                        ...                     ...                     ...  \n",
       "999995  YYW_A_KNbjZg3hiDYwrgVQ  xceJT1G2Yhel3W2lRxRTDA  gAWY4P6a9YoWrWTvk_7rLg  \n",
       "999996  ZCgKS8NIg3xIlIlGt_HEuQ  4TCOItk-gIJROyNA5ftZ-Q  tUsqTg8FWA37DeyaGcBMbg  \n",
       "999997  5_xWTfueFODk1a_DExOdiw  lLaBZ1rj4ix2gDm7TBTfiQ  -cOVyWUJlasj-wpMAaWwvQ  \n",
       "999998  YUEH9xGb8kzYoQbEgdo3Ow  munwYMyAjs_Dg9LI9t38Qw  5dH3vZY2wHF4TNa3oGRH7A  \n",
       "999999  yS0Fgp9qpYdznVBLcH05pQ  WIA4cYshdcmGfkm5hqzC_w  l1EzeGkWmLzAf9F1bAlFRQ  \n",
       "\n",
       "[1000000 rows x 4 columns]"
      ]
     },
     "execution_count": 34,
     "metadata": {},
     "output_type": "execute_result"
    }
   ],
   "source": [
    "df_review_users['friends'].apply(lambda x: pd.Series(x)).stack().reset_index(level=1, drop=True).to_frame('friends').join(df_review_users[['review_id','user_id','business_id']], how='right')"
   ]
  },
  {
   "cell_type": "code",
   "execution_count": 35,
   "metadata": {
    "colab": {
     "base_uri": "https://localhost:8080/",
     "height": 34
    },
    "colab_type": "code",
    "id": "R9Kwgc1tBQET",
    "outputId": "2dd47532-5567-49a6-a570-76f53f33f187"
   },
   "outputs": [
    {
     "name": "stderr",
     "output_type": "stream",
     "text": [
      "100% (50 of 50) |########################| Elapsed Time: 0:53:41 Time:  0:53:41\n"
     ]
    }
   ],
   "source": [
    "split = int(num_reviews/20000)\n",
    "unit = (int)(num_reviews/split)\n",
    "final_df = []\n",
    "for i in progressbar.progressbar(range(split)):\n",
    "  df_review = (df_review_users[i*unit:(i+1)*unit].set_index(df_review_users[i*unit:(i+1)*unit].columns.drop('friends',1).tolist()) \\\n",
    "      .friends.str.split(',', expand=True)\\\n",
    "      .stack()\\\n",
    "      .reset_index()\\\n",
    "      .rename(columns={0:'friends'})\\\n",
    "      .loc[:, df_review_users.columns]\\\n",
    "      ).merge(df_review_copy[i*unit:(i+1)*unit],left_on=['friends','business_id'], right_on=['user_id','business_id'], how='left')\n",
    "    \n",
    "  final_df += [df_review.groupby(['review_id','user_id_x','business_id','stars'])[['counts']].sum().reset_index()]"
   ]
  },
  {
   "cell_type": "code",
   "execution_count": 36,
   "metadata": {
    "colab": {
     "base_uri": "https://localhost:8080/",
     "height": 419
    },
    "colab_type": "code",
    "id": "rU1buohR0Hur",
    "outputId": "c5340bc1-11a5-4e75-ac8a-8153a9cf54b6"
   },
   "outputs": [
    {
     "data": {
      "text/html": [
       "<div>\n",
       "<style scoped>\n",
       "    .dataframe tbody tr th:only-of-type {\n",
       "        vertical-align: middle;\n",
       "    }\n",
       "\n",
       "    .dataframe tbody tr th {\n",
       "        vertical-align: top;\n",
       "    }\n",
       "\n",
       "    .dataframe thead th {\n",
       "        text-align: right;\n",
       "    }\n",
       "</style>\n",
       "<table border=\"1\" class=\"dataframe\">\n",
       "  <thead>\n",
       "    <tr style=\"text-align: right;\">\n",
       "      <th></th>\n",
       "      <th>review_id</th>\n",
       "      <th>user_id_x</th>\n",
       "      <th>business_id</th>\n",
       "      <th>stars</th>\n",
       "      <th>counts</th>\n",
       "    </tr>\n",
       "  </thead>\n",
       "  <tbody>\n",
       "    <tr>\n",
       "      <td>0</td>\n",
       "      <td>--L25C3AQQAJBdSCJu3mXA</td>\n",
       "      <td>SM6qMCO1BLfuRbJkFLaAAA</td>\n",
       "      <td>ot1sUqbDrXEd8BELJZw6IA</td>\n",
       "      <td>2.0</td>\n",
       "      <td>0.0</td>\n",
       "    </tr>\n",
       "    <tr>\n",
       "      <td>1</td>\n",
       "      <td>--vWzP8__OMs54OrpgKxUA</td>\n",
       "      <td>6Ua8_7B55P88XWMnbALW9A</td>\n",
       "      <td>K_4Vbtm0VupWl2MMTxlRkw</td>\n",
       "      <td>4.0</td>\n",
       "      <td>0.0</td>\n",
       "    </tr>\n",
       "    <tr>\n",
       "      <td>2</td>\n",
       "      <td>-01ePuKPxMw1bhR4ISbIlw</td>\n",
       "      <td>SRK_sUnvRmMwfexoL_DLQA</td>\n",
       "      <td>24Td_CQH1bonWKff1rt2vg</td>\n",
       "      <td>4.0</td>\n",
       "      <td>0.0</td>\n",
       "    </tr>\n",
       "    <tr>\n",
       "      <td>3</td>\n",
       "      <td>-0TX2nrxaIz3m0LfXGI4VQ</td>\n",
       "      <td>L025EBDucOsURCzTokiKKg</td>\n",
       "      <td>XXW_OFaYQkkGOGniujZFHg</td>\n",
       "      <td>3.0</td>\n",
       "      <td>0.0</td>\n",
       "    </tr>\n",
       "    <tr>\n",
       "      <td>4</td>\n",
       "      <td>-0ZrJT9FzbtAFha0woBc8A</td>\n",
       "      <td>nGuafxVxay-jYIOl-h_WIQ</td>\n",
       "      <td>bd_qQhLpRvcd1rL8XR5Sag</td>\n",
       "      <td>5.0</td>\n",
       "      <td>0.0</td>\n",
       "    </tr>\n",
       "    <tr>\n",
       "      <td>...</td>\n",
       "      <td>...</td>\n",
       "      <td>...</td>\n",
       "      <td>...</td>\n",
       "      <td>...</td>\n",
       "      <td>...</td>\n",
       "    </tr>\n",
       "    <tr>\n",
       "      <td>19995</td>\n",
       "      <td>zy7FtUVQATa5qriP6QK6zg</td>\n",
       "      <td>c9ItxE_ABJK4U3iiyts9Rw</td>\n",
       "      <td>0QzCeORfF8EY34UODWRV9A</td>\n",
       "      <td>4.0</td>\n",
       "      <td>0.0</td>\n",
       "    </tr>\n",
       "    <tr>\n",
       "      <td>19996</td>\n",
       "      <td>zyE9jn0mJK7WrE1cpkI2vA</td>\n",
       "      <td>NnNdqH3DaleFtQk60UT-og</td>\n",
       "      <td>ZIUs7gncPOX0OXr1ZYviAQ</td>\n",
       "      <td>2.0</td>\n",
       "      <td>0.0</td>\n",
       "    </tr>\n",
       "    <tr>\n",
       "      <td>19997</td>\n",
       "      <td>zyFlAXovgodydAKgIFrnsA</td>\n",
       "      <td>ZlxfyIAWjybEtjo_zwmtUw</td>\n",
       "      <td>lFva3eDk1GRvJAWKknQKig</td>\n",
       "      <td>4.0</td>\n",
       "      <td>0.0</td>\n",
       "    </tr>\n",
       "    <tr>\n",
       "      <td>19998</td>\n",
       "      <td>zz01eX1043VY_ASiCfuZLQ</td>\n",
       "      <td>4kfTglFC5RBcZsXOX6d5vw</td>\n",
       "      <td>PPR-7QXDjicPRA5C4rZ5eA</td>\n",
       "      <td>5.0</td>\n",
       "      <td>0.0</td>\n",
       "    </tr>\n",
       "    <tr>\n",
       "      <td>19999</td>\n",
       "      <td>zzxznXo4QhDNNzckeh3tNg</td>\n",
       "      <td>Vxc0OwQDdtISn3AEBML_cw</td>\n",
       "      <td>Csj88GuxCXO-24VQraitHQ</td>\n",
       "      <td>1.0</td>\n",
       "      <td>0.0</td>\n",
       "    </tr>\n",
       "  </tbody>\n",
       "</table>\n",
       "<p>1000000 rows × 5 columns</p>\n",
       "</div>"
      ],
      "text/plain": [
       "                    review_id               user_id_x             business_id  \\\n",
       "0      --L25C3AQQAJBdSCJu3mXA  SM6qMCO1BLfuRbJkFLaAAA  ot1sUqbDrXEd8BELJZw6IA   \n",
       "1      --vWzP8__OMs54OrpgKxUA  6Ua8_7B55P88XWMnbALW9A  K_4Vbtm0VupWl2MMTxlRkw   \n",
       "2      -01ePuKPxMw1bhR4ISbIlw  SRK_sUnvRmMwfexoL_DLQA  24Td_CQH1bonWKff1rt2vg   \n",
       "3      -0TX2nrxaIz3m0LfXGI4VQ  L025EBDucOsURCzTokiKKg  XXW_OFaYQkkGOGniujZFHg   \n",
       "4      -0ZrJT9FzbtAFha0woBc8A  nGuafxVxay-jYIOl-h_WIQ  bd_qQhLpRvcd1rL8XR5Sag   \n",
       "...                       ...                     ...                     ...   \n",
       "19995  zy7FtUVQATa5qriP6QK6zg  c9ItxE_ABJK4U3iiyts9Rw  0QzCeORfF8EY34UODWRV9A   \n",
       "19996  zyE9jn0mJK7WrE1cpkI2vA  NnNdqH3DaleFtQk60UT-og  ZIUs7gncPOX0OXr1ZYviAQ   \n",
       "19997  zyFlAXovgodydAKgIFrnsA  ZlxfyIAWjybEtjo_zwmtUw  lFva3eDk1GRvJAWKknQKig   \n",
       "19998  zz01eX1043VY_ASiCfuZLQ  4kfTglFC5RBcZsXOX6d5vw  PPR-7QXDjicPRA5C4rZ5eA   \n",
       "19999  zzxznXo4QhDNNzckeh3tNg  Vxc0OwQDdtISn3AEBML_cw  Csj88GuxCXO-24VQraitHQ   \n",
       "\n",
       "       stars  counts  \n",
       "0        2.0     0.0  \n",
       "1        4.0     0.0  \n",
       "2        4.0     0.0  \n",
       "3        3.0     0.0  \n",
       "4        5.0     0.0  \n",
       "...      ...     ...  \n",
       "19995    4.0     0.0  \n",
       "19996    2.0     0.0  \n",
       "19997    4.0     0.0  \n",
       "19998    5.0     0.0  \n",
       "19999    1.0     0.0  \n",
       "\n",
       "[1000000 rows x 5 columns]"
      ]
     },
     "execution_count": 36,
     "metadata": {},
     "output_type": "execute_result"
    }
   ],
   "source": [
    "\n",
    "actual_df = final_df[0]\n",
    "for i in range(split-1):\n",
    "  actual_df = actual_df.append(final_df[i+1])\n",
    "actual_df"
   ]
  },
  {
   "cell_type": "code",
   "execution_count": 37,
   "metadata": {
    "colab": {
     "base_uri": "https://localhost:8080/",
     "height": 855
    },
    "colab_type": "code",
    "id": "WuvOQo-HxS-A",
    "outputId": "66c5c45a-dcbc-4b19-b1b9-0b968b855c16"
   },
   "outputs": [
    {
     "data": {
      "text/html": [
       "<div>\n",
       "<style scoped>\n",
       "    .dataframe tbody tr th:only-of-type {\n",
       "        vertical-align: middle;\n",
       "    }\n",
       "\n",
       "    .dataframe tbody tr th {\n",
       "        vertical-align: top;\n",
       "    }\n",
       "\n",
       "    .dataframe thead th {\n",
       "        text-align: right;\n",
       "    }\n",
       "</style>\n",
       "<table border=\"1\" class=\"dataframe\">\n",
       "  <thead>\n",
       "    <tr style=\"text-align: right;\">\n",
       "      <th></th>\n",
       "      <th>review_id</th>\n",
       "      <th>user_id_x</th>\n",
       "      <th>business_id</th>\n",
       "      <th>stars</th>\n",
       "      <th>counts</th>\n",
       "    </tr>\n",
       "  </thead>\n",
       "  <tbody>\n",
       "    <tr>\n",
       "      <td>2133</td>\n",
       "      <td>5q2bo9s0YymK8rbJRLazeQ</td>\n",
       "      <td>PVAUoz3zppaeT-NFhXSi4w</td>\n",
       "      <td>Ak08F6RqjHYmVCzweBbTrQ</td>\n",
       "      <td>3.0</td>\n",
       "      <td>1.0</td>\n",
       "    </tr>\n",
       "    <tr>\n",
       "      <td>4008</td>\n",
       "      <td>C2UEsDKJI1NvU-nTVyWUlg</td>\n",
       "      <td>z3VzhMeD_YWv6-kquy6DnA</td>\n",
       "      <td>fqBnZxSkG287OOyU9LvTig</td>\n",
       "      <td>5.0</td>\n",
       "      <td>2.0</td>\n",
       "    </tr>\n",
       "    <tr>\n",
       "      <td>4449</td>\n",
       "      <td>DOL0znQgcUK5PkTssaQONQ</td>\n",
       "      <td>8C__YyPxGnzyH1dqLgDtSg</td>\n",
       "      <td>aEtbk_LuJREjm66jKmCQRw</td>\n",
       "      <td>5.0</td>\n",
       "      <td>1.0</td>\n",
       "    </tr>\n",
       "    <tr>\n",
       "      <td>5938</td>\n",
       "      <td>IDVUxOKBB0wlAS44il6XAA</td>\n",
       "      <td>-InhDRRVG7wrwsgAUvN4Qw</td>\n",
       "      <td>fbfJi9uj86621DntGpIa9w</td>\n",
       "      <td>2.0</td>\n",
       "      <td>1.0</td>\n",
       "    </tr>\n",
       "    <tr>\n",
       "      <td>6129</td>\n",
       "      <td>IoGUcnsvnDXgdMujFwqbMA</td>\n",
       "      <td>XORvWH1_rIDjIuTtJuTZhg</td>\n",
       "      <td>jScBTQtdAt-8RshaiBEHgw</td>\n",
       "      <td>2.0</td>\n",
       "      <td>1.0</td>\n",
       "    </tr>\n",
       "    <tr>\n",
       "      <td>...</td>\n",
       "      <td>...</td>\n",
       "      <td>...</td>\n",
       "      <td>...</td>\n",
       "      <td>...</td>\n",
       "      <td>...</td>\n",
       "    </tr>\n",
       "    <tr>\n",
       "      <td>14064</td>\n",
       "      <td>gkniQNdxwgwKG1p1T9KU-Q</td>\n",
       "      <td>qVR0L39xOqQ2Dcl4nBkYbQ</td>\n",
       "      <td>zUHz-rUIR7FSvmP7bbemsA</td>\n",
       "      <td>3.0</td>\n",
       "      <td>1.0</td>\n",
       "    </tr>\n",
       "    <tr>\n",
       "      <td>14867</td>\n",
       "      <td>jYM8YWi1GQi55lWmk2p70A</td>\n",
       "      <td>EHJKZ9IF8yK_63I6PO5oMA</td>\n",
       "      <td>k0iSRXXqw49yugl8UUpbsw</td>\n",
       "      <td>5.0</td>\n",
       "      <td>1.0</td>\n",
       "    </tr>\n",
       "    <tr>\n",
       "      <td>16239</td>\n",
       "      <td>npa6Eaab7vYnYBxa8pzLTg</td>\n",
       "      <td>qb-8RrNbVj-3WkXYuxpi3w</td>\n",
       "      <td>zdE82PiD6wquvjYLyhOJNA</td>\n",
       "      <td>5.0</td>\n",
       "      <td>1.0</td>\n",
       "    </tr>\n",
       "    <tr>\n",
       "      <td>18822</td>\n",
       "      <td>wM6ECIibIxK30e1NowKxOg</td>\n",
       "      <td>d7E90jFNq8BvQHYZG4efpQ</td>\n",
       "      <td>KUR90I_YtbnQlrE-irXJQw</td>\n",
       "      <td>5.0</td>\n",
       "      <td>1.0</td>\n",
       "    </tr>\n",
       "    <tr>\n",
       "      <td>15966</td>\n",
       "      <td>mrg86GYXdmvlA5tn_-4MDg</td>\n",
       "      <td>p41LO5vyIXnvwZi-5L74yg</td>\n",
       "      <td>DbEszO3wk1xVmN3pCPob2g</td>\n",
       "      <td>2.0</td>\n",
       "      <td>1.0</td>\n",
       "    </tr>\n",
       "  </tbody>\n",
       "</table>\n",
       "<p>189 rows × 5 columns</p>\n",
       "</div>"
      ],
      "text/plain": [
       "                    review_id               user_id_x             business_id  \\\n",
       "2133   5q2bo9s0YymK8rbJRLazeQ  PVAUoz3zppaeT-NFhXSi4w  Ak08F6RqjHYmVCzweBbTrQ   \n",
       "4008   C2UEsDKJI1NvU-nTVyWUlg  z3VzhMeD_YWv6-kquy6DnA  fqBnZxSkG287OOyU9LvTig   \n",
       "4449   DOL0znQgcUK5PkTssaQONQ  8C__YyPxGnzyH1dqLgDtSg  aEtbk_LuJREjm66jKmCQRw   \n",
       "5938   IDVUxOKBB0wlAS44il6XAA  -InhDRRVG7wrwsgAUvN4Qw  fbfJi9uj86621DntGpIa9w   \n",
       "6129   IoGUcnsvnDXgdMujFwqbMA  XORvWH1_rIDjIuTtJuTZhg  jScBTQtdAt-8RshaiBEHgw   \n",
       "...                       ...                     ...                     ...   \n",
       "14064  gkniQNdxwgwKG1p1T9KU-Q  qVR0L39xOqQ2Dcl4nBkYbQ  zUHz-rUIR7FSvmP7bbemsA   \n",
       "14867  jYM8YWi1GQi55lWmk2p70A  EHJKZ9IF8yK_63I6PO5oMA  k0iSRXXqw49yugl8UUpbsw   \n",
       "16239  npa6Eaab7vYnYBxa8pzLTg  qb-8RrNbVj-3WkXYuxpi3w  zdE82PiD6wquvjYLyhOJNA   \n",
       "18822  wM6ECIibIxK30e1NowKxOg  d7E90jFNq8BvQHYZG4efpQ  KUR90I_YtbnQlrE-irXJQw   \n",
       "15966  mrg86GYXdmvlA5tn_-4MDg  p41LO5vyIXnvwZi-5L74yg  DbEszO3wk1xVmN3pCPob2g   \n",
       "\n",
       "       stars  counts  \n",
       "2133     3.0     1.0  \n",
       "4008     5.0     2.0  \n",
       "4449     5.0     1.0  \n",
       "5938     2.0     1.0  \n",
       "6129     2.0     1.0  \n",
       "...      ...     ...  \n",
       "14064    3.0     1.0  \n",
       "14867    5.0     1.0  \n",
       "16239    5.0     1.0  \n",
       "18822    5.0     1.0  \n",
       "15966    2.0     1.0  \n",
       "\n",
       "[189 rows x 5 columns]"
      ]
     },
     "execution_count": 37,
     "metadata": {},
     "output_type": "execute_result"
    }
   ],
   "source": [
    "actual_df[actual_df['counts']>0]\n"
   ]
  },
  {
   "cell_type": "code",
   "execution_count": 38,
   "metadata": {
    "colab": {},
    "colab_type": "code",
    "id": "f8eGCprXsPJx"
   },
   "outputs": [],
   "source": [
    "max_friends = (actual_df['counts'].max())"
   ]
  },
  {
   "cell_type": "code",
   "execution_count": 39,
   "metadata": {
    "colab": {},
    "colab_type": "code",
    "id": "uCBMlXe6ysQN"
   },
   "outputs": [],
   "source": [
    "review_list_friends = actual_df.values.tolist()\n",
    "del final_df\n",
    "del df_review_users\n",
    "del df_review_copy\n",
    "shuffled_list = np.array(review_list_friends)\n",
    "np.random.shuffle(shuffled_list)\n"
   ]
  },
  {
   "cell_type": "code",
   "execution_count": 40,
   "metadata": {
    "colab": {},
    "colab_type": "code",
    "id": "GSQB0KEDQ_2A"
   },
   "outputs": [],
   "source": [
    "user_friends = pd.read_json('../yelp-dataset/yelp_academic_dataset_user.json', lines=True)\n",
    "user_friends = user_friends[['user_id','friends']]"
   ]
  },
  {
   "cell_type": "code",
   "execution_count": 41,
   "metadata": {
    "colab": {},
    "colab_type": "code",
    "id": "DzhG3tGRxXus"
   },
   "outputs": [],
   "source": [
    "def RMSE(pred, y):\n",
    "    return np.sqrt(np.mean(np.square(pred - y)))\n",
    "\n",
    "\n",
    "\n",
    "def SGD(num_iter, nu, a, b, q, p, y_f, train_error, val_error,reviews, learning_rate = 0.1, lambda_val = 1, start_it = 0):\n",
    "\n",
    "    for i in progressbar.progressbar(range(start_it,num_iter)):\n",
    "        total_values = 0\n",
    "\n",
    "        if((i+1)%5==0):\n",
    "           #### Name model as friend_k_lambda. Example, if lambda =0.2, k =50, file name would be friend_50_2\n",
    "          np.savez(\"./friend_100_0\", a=a,b=b, q=q, p=p, y_f = y_f, train_error = train_error, val_error = val_error)\n",
    "        if(i%5 == 0):\n",
    "          val_set = reviews[:unit]\n",
    "          train_set = reviews[unit:]\n",
    "        elif(i%5 == 1):\n",
    "          val_set = reviews[unit:2*unit]\n",
    "          train_set = reviews[:unit]\n",
    "          train_set = train_set.append(reviews[2*unit:])\n",
    "        elif(i%5 == 2):\n",
    "          val_set = reviews[2*unit:3*unit]\n",
    "          train_set = reviews[:2*unit]\n",
    "          train_set = train_set.append(reviews[3*unit:])\n",
    "        elif(i%5 == 3):\n",
    "          val_set = reviews[3*unit:4*unit]\n",
    "          train_set = reviews[:3*unit]\n",
    "          train_set = train_set.append(reviews[4*unit:])\n",
    "        elif(i%5 == 4):\n",
    "          val_set = reviews[4*unit:]\n",
    "          train_set = reviews[:4*unit]\n",
    "        \n",
    "        val_error[i] = test_error(nu, a, b, q, p, y_f, val_set, val = True)\n",
    "        for index,row in reviews.iterrows():\n",
    "            user_id = user_dict[row['user_id']]\n",
    "            biz_id = business_dict[row['business_id']]\n",
    "            rating = (float)(row['stars'])\n",
    "            count = (int)((float)(row['friends']))\n",
    "            friends = y_f[user_id]\n",
    "            friend_sum = np.zeros(p.shape[1])\n",
    "            if(count != 0):\n",
    "              for j in range(count):\n",
    "                friend_sum += friends[j]\n",
    "              pred_rating = nu + a[user_id] + b[biz_id] +  np.matmul(q[biz_id] , (p[user_id] + 1/np.sqrt(count) * friend_sum).T)\n",
    "            else:\n",
    "              pred_rating = nu + a[user_id] + b[biz_id] +  np.matmul(q[biz_id] , p[user_id].T)\n",
    "            # Updating parameters\n",
    "            q_curr = np.copy(q[biz_id])\n",
    "            p_curr = np.copy(p[user_id])\n",
    "            p_f_curr = np.copy(p[user_id] + 1/np.sqrt(count) * friend_sum)\n",
    "            error = rating - pred_rating\n",
    "            a[user_id] = a[user_id] + learning_rate*(error -  lambda_val*a[user_id])\n",
    "            b[biz_id] = b[biz_id] + learning_rate*(error -  lambda_val*b[biz_id])\n",
    "            if(count != 0):\n",
    "              q[biz_id] = q_curr + learning_rate*(error*p_f_curr -  lambda_val*q_curr)\n",
    "              p[user_id] = p_curr + learning_rate*(error*q_curr -  lambda_val*p_curr)\n",
    "              for j in range(count):\n",
    "                friends[j] = friends[j] + learning_rate*(error*1/np.sqrt(count)*q_curr - lambda_val*friends[j])\n",
    "            else:\n",
    "              q[biz_id] = q_curr + learning_rate*(error*p_curr -  lambda_val*q_curr)\n",
    "              p[user_id] = p_curr + learning_rate*(error*q_curr -  lambda_val*p_curr)\n",
    "            train_error[i] += RMSE(pred_rating, rating)\n",
    "            total_values += 1\n",
    "        train_error[i]/= total_values\n",
    "        \n",
    "    plt.plot(train_error)\n",
    "    plt.plot(val_error)\n",
    "    plt.show()\n",
    "    return a,b,q,p,y_f\n",
    "\n",
    "def test_error(nu, a, b, q, p, y_f, reviews, val = False):\n",
    "    error = 0\n",
    "    total_values = 0\n",
    "    for index,row in reviews.iterrows():\n",
    "        user_id = user_dict[row['user_id']]\n",
    "        biz_id = business_dict[row['business_id']]\n",
    "        rating = (float)(row['stars'])\n",
    "        count = (int)((float)(row['friends']))\n",
    "        friends = y_f[user_id]\n",
    "        friend_sum = np.zeros(p.shape[1])\n",
    "        if(count != 0):\n",
    "          for j in range(count):\n",
    "            friend_sum += friends[j]\n",
    "          pred_rating = nu + a[user_id] + b[biz_id] +  np.matmul(q[biz_id] , (p[user_id] + 1/np.sqrt(count) * friend_sum).T)\n",
    "        else:\n",
    "          pred_rating = nu + a[user_id] + b[biz_id] +  np.matmul(q[biz_id] , p[user_id].T)\n",
    "\n",
    "        error += RMSE(pred_rating, rating)\n",
    "        total_values += 1\n",
    "    error/= total_values\n",
    "    if(not val):\n",
    "      print(\"Test Error:\")\n",
    "      print(error)\n",
    "    else:\n",
    "      return error"
   ]
  },
  {
   "cell_type": "code",
   "execution_count": 42,
   "metadata": {
    "colab": {},
    "colab_type": "code",
    "id": "geiY7a3Dxqx_"
   },
   "outputs": [],
   "source": [
    "test_set = pd.DataFrame(shuffled_list[:int(0.2*num_reviews)], columns=['review_id','user_id','business_id','stars','friends'])\n",
    "train_set = pd.DataFrame(shuffled_list[int(0.2*num_reviews):], columns=['review_id','user_id','business_id','stars','friends'])\n",
    "# Initializing all parameters\n",
    "#### Choose value of K =75,100\n",
    "k = 100\n",
    "upper_init = sqrt(5/k)\n",
    "stars = train_set['stars'].astype('float32').values\n",
    "friend_count = np.zeros(count_u)\n",
    "for index,row in user_friends.iterrows():\n",
    "  user_id = row['user_id']\n",
    "  friends = row['friends']\n",
    "  if user_id not in user_dict:\n",
    "    continue\n",
    "  friend_count[user_dict[user_id]] = max_friends\n",
    " \n",
    "y_f = []\n",
    "for i in range(count_u):\n",
    "  y_f += [int(friend_count[i])*[np.zeros(k)]]\n",
    "\n",
    "nu = np.mean(stars) \n",
    "a = nu*np.ones(count_u)\n",
    "b = nu*np.ones(count_b)\n",
    "\n",
    "\n",
    "q = upper_init*np.random.random([count_b,k])\n",
    "p = upper_init*np.random.random([count_u,k])\n",
    "\n",
    "it = 100 # Number of iterations\n",
    "train_error = np.zeros(it)\n",
    "val_error = np.zeros(it)"
   ]
  },
  {
   "cell_type": "code",
   "execution_count": 43,
   "metadata": {
    "colab": {},
    "colab_type": "code",
    "id": "hD5nsIvi4FHm"
   },
   "outputs": [],
   "source": [
    "# values = np.load('/content/drive/My Drive/Colab Notebooks/itfr_0_1_0_2.npz')\n",
    "# a = values['a']\n",
    "# b = values['b']\n",
    "# q = values['q']\n",
    "# p = values['p']\n",
    "# y_f = values['y_f]\n",
    "# train_error = values['train_error]\n",
    "# val_error = values['val_error]"
   ]
  },
  {
   "cell_type": "code",
   "execution_count": 44,
   "metadata": {
    "colab": {
     "base_uri": "https://localhost:8080/",
     "height": 378
    },
    "colab_type": "code",
    "id": "EVRkpacLyO7t",
    "outputId": "b07f2d1f-eac8-4b9d-fdd8-e48accde2882"
   },
   "outputs": [
    {
     "name": "stderr",
     "output_type": "stream",
     "text": [
      "N/A% (0 of 100) |                        | Elapsed Time: 0:00:00 ETA:  --:--:--/Users/malarvasudevan/anaconda2/envs/dav/lib/python3.7/site-packages/ipykernel_launcher.py:50: RuntimeWarning: divide by zero encountered in double_scalars\n",
      "/Users/malarvasudevan/anaconda2/envs/dav/lib/python3.7/site-packages/ipykernel_launcher.py:50: RuntimeWarning: invalid value encountered in multiply\n",
      "100% (100 of 100) |######################| Elapsed Time: 4:25:28 Time:  4:25:28\n"
     ]
    },
    {
     "data": {
      "image/png": "[encoded data removed]",
      "text/plain": [
       "<Figure size 432x288 with 1 Axes>"
      ]
     },
     "metadata": {
      "needs_background": "light"
     },
     "output_type": "display_data"
    },
    {
     "name": "stdout",
     "output_type": "stream",
     "text": [
      "Test Error:\n",
      "1.285104485251752\n"
     ]
    }
   ],
   "source": [
    "\n",
    "#Training\n",
    "#Lambda = 0.2,0.4,0.6\n",
    "a,b,q,p,y_f = SGD(it, nu, a, b, q, p, y_f, train_error, val_error, train_set,learning_rate = 0.05, lambda_val = 0, start_it = 0)\n",
    "#Test\n",
    "\n",
    "test_error(nu, a, b, q, p,y_f, test_set)\n"
   ]
  },
  {
   "cell_type": "code",
   "execution_count": 45,
   "metadata": {
    "colab": {},
    "colab_type": "code",
    "id": "72KmP1aG4ecm"
   },
   "outputs": [
    {
     "name": "stdout",
     "output_type": "stream",
     "text": [
      "Test Error:\n",
      "1.285104485251752\n"
     ]
    }
   ],
   "source": [
    "test_error(nu, a, b, q, p,y_f, test_set)"
   ]
  },
  {
   "cell_type": "code",
   "execution_count": null,
   "metadata": {},
   "outputs": [],
   "source": []
  }
 ],
 "metadata": {
  "accelerator": "GPU",
  "colab": {
   "collapsed_sections": [],
   "machine_shape": "hm",
   "name": "yelp_friends_cv.ipynb",
   "provenance": []
  },
  "kernelspec": {
   "display_name": "Python 3",
   "language": "python",
   "name": "python3"
  },
  "language_info": {
   "codemirror_mode": {
    "name": "ipython",
    "version": 3
   },
   "file_extension": ".py",
   "mimetype": "text/x-python",
   "name": "python",
   "nbconvert_exporter": "python",
   "pygments_lexer": "ipython3",
   "version": "3.7.4"
  }
 },
 "nbformat": 4,
 "nbformat_minor": 1
}
