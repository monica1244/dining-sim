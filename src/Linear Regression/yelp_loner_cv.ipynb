{
 "cells": [
  {
   "cell_type": "code",
   "execution_count": 13,
   "metadata": {
    "colab": {
     "base_uri": "https://localhost:8080/",
     "height": 34
    },
    "colab_type": "code",
    "id": "VF-wICsESu_c",
    "outputId": "615a8ccc-bed1-47d7-f1aa-358c1ef69a21"
   },
   "outputs": [],
   "source": [
    "# from google.colab import drive\n",
    "# drive.mount('/content/drive')\n",
    "# from google.colab import files"
   ]
  },
  {
   "cell_type": "code",
   "execution_count": 31,
   "metadata": {
    "colab": {},
    "colab_type": "code",
    "id": "TTQNosxfnJlu"
   },
   "outputs": [],
   "source": [
    "import numpy as np\n",
    "from math import sqrt\n",
    "import matplotlib.pyplot as plt\n",
    "from sklearn.linear_model import SGDClassifier\n",
    "import progressbar\n",
    "import json\n",
    "import pandas as pd\n",
    "\n",
    "np.random.seed(584)"
   ]
  },
  {
   "cell_type": "code",
   "execution_count": 32,
   "metadata": {
    "colab": {},
    "colab_type": "code",
    "id": "-eqYZuqlnNXK"
   },
   "outputs": [],
   "source": [
    "review_json = open('../yelp-dataset/yelp_academic_dataset_review.json',encoding=\"utf8\")"
   ]
  },
  {
   "cell_type": "code",
   "execution_count": 33,
   "metadata": {
    "colab": {},
    "colab_type": "code",
    "id": "HSsZDLjJnQ-Z"
   },
   "outputs": [],
   "source": [
    "num_reviews=1000000\n",
    "reviews_list = list()\n",
    "user_dict = {}\n",
    "business_dict = {}\n",
    "count_u = 0\n",
    "count_b = 0\n"
   ]
  },
  {
   "cell_type": "code",
   "execution_count": 34,
   "metadata": {
    "colab": {},
    "colab_type": "code",
    "id": "BPtoRHXMSspa"
   },
   "outputs": [],
   "source": [
    "for i, line in enumerate(review_json):\n",
    "    if i == num_reviews:\n",
    "        break\n",
    "    data = json.loads(line)\n",
    "    # extract fields\n",
    "\n",
    "    review_id = data['review_id']\n",
    "    \n",
    "        \n",
    "    user_id = data['user_id']\n",
    "\n",
    "    business_id = data['business_id']\n",
    "    \n",
    "    stars = data['stars']\n",
    "    if user_id not in user_dict:\n",
    "        user_dict[user_id] = count_u\n",
    "        count_u += 1\n",
    "    if business_id not in business_dict:\n",
    "        business_dict[business_id] = count_b\n",
    "        count_b += 1\n",
    "    # add to the data\n",
    "    reviews_list.append([review_id,user_id,business_id,stars])\n",
    "  "
   ]
  },
  {
   "cell_type": "code",
   "execution_count": 35,
   "metadata": {
    "colab": {
     "base_uri": "https://localhost:8080/",
     "height": 357
    },
    "colab_type": "code",
    "id": "R0_sw7TwnWpZ",
    "outputId": "8ec675ea-4cfc-448e-b875-5ba737b79130"
   },
   "outputs": [
    {
     "name": "stdout",
     "output_type": "stream",
     "text": [
      "                     review_id                 user_id  \\\n",
      "0       Q1sbwvVQXV2734tPgoKj4Q  hG7b0MtEbXx5QzbzE6C_VA   \n",
      "1       GJXCdrto3ASJOqKeVWPi6Q  yXQM5uF2jS6es16SJzNHfg   \n",
      "2       2TzJjDVDEuAW6MR5Vuc1ug  n6-Gk65cPZL6Uz8qRm3NYw   \n",
      "3       yi0R0Ugj_xUx_Nek0-_Qig  dacAIZ6fTM6mqwW5uxkskg   \n",
      "4       11a8sVPMUFtaC7_ABRkmtw  ssoyf2_x0EQMed6fgHeMyQ   \n",
      "...                        ...                     ...   \n",
      "999995  YYW_A_KNbjZg3hiDYwrgVQ  xceJT1G2Yhel3W2lRxRTDA   \n",
      "999996  ZCgKS8NIg3xIlIlGt_HEuQ  4TCOItk-gIJROyNA5ftZ-Q   \n",
      "999997  5_xWTfueFODk1a_DExOdiw  lLaBZ1rj4ix2gDm7TBTfiQ   \n",
      "999998  YUEH9xGb8kzYoQbEgdo3Ow  munwYMyAjs_Dg9LI9t38Qw   \n",
      "999999  yS0Fgp9qpYdznVBLcH05pQ  WIA4cYshdcmGfkm5hqzC_w   \n",
      "\n",
      "                   business_id  stars  \n",
      "0       ujmEBvifdJM6h6RLv4wQIg    1.0  \n",
      "1       NZnhc2sEQy3RmzKTZnqtwQ    5.0  \n",
      "2       WTqjgwHlXbSFevF32_DJVw    5.0  \n",
      "3       ikCg8xy5JIg_NGPx-MSIDA    5.0  \n",
      "4       b1b1eb3uo-w561D0ZfCEiQ    1.0  \n",
      "...                        ...    ...  \n",
      "999995  gAWY4P6a9YoWrWTvk_7rLg    5.0  \n",
      "999996  tUsqTg8FWA37DeyaGcBMbg    5.0  \n",
      "999997  -cOVyWUJlasj-wpMAaWwvQ    5.0  \n",
      "999998  5dH3vZY2wHF4TNa3oGRH7A    1.0  \n",
      "999999  l1EzeGkWmLzAf9F1bAlFRQ    5.0  \n",
      "\n",
      "[1000000 rows x 4 columns]\n",
      "\n",
      "Total unique users\n",
      "504870\n",
      "\n",
      "Total unique businesses\n",
      "37619\n"
     ]
    }
   ],
   "source": [
    "df_review = pd.DataFrame(reviews_list, columns=['review_id','user_id','business_id','stars'])\n",
    "print(df_review)\n",
    "print(\"\\nTotal unique users\")\n",
    "print(count_u)\n",
    "print(\"\\nTotal unique businesses\")\n",
    "print(count_b)\n"
   ]
  },
  {
   "cell_type": "code",
   "execution_count": 36,
   "metadata": {
    "colab": {},
    "colab_type": "code",
    "id": "qxlGgLDinoKU"
   },
   "outputs": [],
   "source": [
    "shuffled_list = np.array(reviews_list)\n",
    "np.random.shuffle(shuffled_list)"
   ]
  },
  {
   "cell_type": "code",
   "execution_count": 37,
   "metadata": {
    "colab": {},
    "colab_type": "code",
    "id": "X6A5F-rZnqE-"
   },
   "outputs": [],
   "source": [
    "def RMSE(pred, y):\n",
    "    return np.sqrt(np.mean(np.square(pred - y)))\n",
    "\n",
    "\n",
    "\n",
    "def SGD(num_iter, nu, a, b, q, p, train_error, val_error, reviews, learning_rate = 0.1, lambda_val = 1, start_it = 0):\n",
    "    for i in progressbar.progressbar(range(start_it,num_iter)):\n",
    "        total_values = 0\n",
    "        n_rows = reviews.shape[0]\n",
    "        unit = int(0.2*n_rows)\n",
    "        \n",
    "        if((i+1)%5==0):\n",
    "          #### Name model as friend_k_lambda. Example, if lambda =0.2, k =50, file name would be friend_50_2 \n",
    "          np.savez(\"./loner_75_0\", a=a,b=b, q=q, p=p, train_error = train_error, val_error = val_error)\n",
    "        #Cross Validation\n",
    "        if(i%5 == 0):\n",
    "          val_set = reviews[:unit]\n",
    "          train_set = reviews[unit:]\n",
    "        elif(i%5 == 1):\n",
    "          val_set = reviews[unit:2*unit]\n",
    "          train_set = reviews[:unit]\n",
    "          train_set = train_set.append(reviews[2*unit:])\n",
    "        elif(i%5 == 2):\n",
    "          val_set = reviews[2*unit:3*unit]\n",
    "          train_set = reviews[:2*unit]\n",
    "          train_set = train_set.append(reviews[3*unit:])\n",
    "        elif(i%5 == 3):\n",
    "          val_set = reviews[3*unit:4*unit]\n",
    "          train_set = reviews[:3*unit]\n",
    "          train_set = train_set.append(reviews[4*unit:])\n",
    "        elif(i%5 == 4):\n",
    "          val_set = reviews[4*unit:]\n",
    "          train_set = reviews[:4*unit]\n",
    "\n",
    "\n",
    "        val_error[i] = test_error(nu, a, b, q, p, val_set, val = True)\n",
    "        for index,row in train_set.iterrows():\n",
    "            user_id = user_dict[row['user_id']]\n",
    "            biz_id = business_dict[row['business_id']]\n",
    "            rating = (float)(row['stars'])\n",
    "            pred_rating = nu + a[user_id] + b[biz_id] +  np.matmul(q[biz_id] , p[user_id].T)\n",
    "            # Updating parameters\n",
    "            q_curr = np.copy(q[biz_id])\n",
    "            p_curr = np.copy(p[user_id])\n",
    "            error = rating - pred_rating\n",
    "            a[user_id] = a[user_id] + learning_rate*(error -  lambda_val*a[user_id])\n",
    "            b[biz_id] = b[biz_id] + learning_rate*(error -  lambda_val*b[biz_id])\n",
    "            q[biz_id] = q_curr + learning_rate*(error*p_curr -  lambda_val*q_curr)\n",
    "            p[user_id] = p_curr + learning_rate*(error*q_curr -  lambda_val*p_curr)\n",
    "            train_error[i] += RMSE(pred_rating, rating)\n",
    "            total_values += 1\n",
    "        train_error[i]/= total_values\n",
    "        \n",
    "    plt.plot(train_error)\n",
    "    plt.plot(val_error)\n",
    "    plt.show()\n",
    "    return a,b,q,p\n",
    "\n",
    "def test_error(nu, a, b, q, p, reviews, val = False):\n",
    "    error = 0\n",
    "    total_values = 0\n",
    "    for index,row in reviews.iterrows():\n",
    "        user_id = user_dict[row['user_id']]\n",
    "        biz_id = business_dict[row['business_id']]\n",
    "        rating = (float)(row['stars'])\n",
    "        pred_rating = nu + a[user_id] + b[biz_id] +  np.matmul(q[biz_id] , p[user_id].T)\n",
    "\n",
    "        error += RMSE(pred_rating, rating)\n",
    "        total_values += 1\n",
    "    error/= total_values\n",
    "    if(not val):\n",
    "      print(\"Test Error:\")\n",
    "      print(error)\n",
    "    else:\n",
    "      return error"
   ]
  },
  {
   "cell_type": "code",
   "execution_count": 38,
   "metadata": {
    "colab": {},
    "colab_type": "code",
    "id": "dB82tBSjnve7"
   },
   "outputs": [],
   "source": [
    "\n",
    "test_set = pd.DataFrame(shuffled_list[:int(0.2*num_reviews)], columns=['review_id','user_id','business_id','stars'])\n",
    "train_set = pd.DataFrame(shuffled_list[int(0.2*num_reviews):], columns=['review_id','user_id','business_id','stars'])\n",
    "# Initializing all parameters\n",
    "k = 75\n",
    "upper_init = sqrt(5/k)\n",
    "stars = train_set['stars'].astype('float32').values\n",
    "\n",
    "nu = np.mean(stars) \n",
    "a = nu*np.ones(count_u)\n",
    "b = nu*np.ones(count_b)\n",
    "\n",
    "q = upper_init*np.random.random([count_b,k])\n",
    "p = upper_init*np.random.random([count_u,k])\n",
    "\n",
    "it = 100 # Number of iterations\n",
    "train_error = np.zeros(it)\n",
    "val_error = np.zeros(it)"
   ]
  },
  {
   "cell_type": "code",
   "execution_count": 39,
   "metadata": {
    "colab": {},
    "colab_type": "code",
    "id": "tNf7D0GS_R5z"
   },
   "outputs": [],
   "source": [
    "# values = np.load('/content/drive/My Drive/Colab Notebooks/itfr_0_1_0_2.npz')\n",
    "# a = values['a']\n",
    "# b = values['b']\n",
    "# q = values['q']\n",
    "# p = values['p']\n",
    "# train_error = values['train_error]\n",
    "# val_error = values['val_error]"
   ]
  },
  {
   "cell_type": "code",
   "execution_count": 40,
   "metadata": {
    "colab": {
     "base_uri": "https://localhost:8080/",
     "height": 34
    },
    "colab_type": "code",
    "id": "gG_c5Cd-nxR2",
    "outputId": "53b08b44-6ec6-4e16-9425-29351a8177f4"
   },
   "outputs": [
    {
     "name": "stderr",
     "output_type": "stream",
     "text": [
      "100% (100 of 100) |######################| Elapsed Time: 3:26:00 Time:  3:26:00\n"
     ]
    },
    {
     "data": {
      "image/png": "[encoded data removed]",
      "text/plain": [
       "<Figure size 432x288 with 1 Axes>"
      ]
     },
     "metadata": {
      "needs_background": "light"
     },
     "output_type": "display_data"
    }
   ],
   "source": [
    "\n",
    "#Training\n",
    "#Lambda = 0.2,0.4,0.6\n",
    "a,b,q,p = SGD(it, nu, a, b, q, p, train_error, val_error, train_set,learning_rate = 0.05, lambda_val = 0, start_it = 0)\n",
    "#Test\n"
   ]
  },
  {
   "cell_type": "code",
   "execution_count": 41,
   "metadata": {
    "colab": {},
    "colab_type": "code",
    "id": "8Z_8jIitnz4s"
   },
   "outputs": [
    {
     "name": "stdout",
     "output_type": "stream",
     "text": [
      "Test Error:\n",
      "1.297855036172081\n"
     ]
    }
   ],
   "source": [
    "test_error(nu, a, b, q, p, test_set)"
   ]
  },
  {
   "cell_type": "markdown",
   "metadata": {
    "colab_type": "text",
    "id": "ijRkEiqhAMNU"
   },
   "source": []
  },
  {
   "cell_type": "code",
   "execution_count": 0,
   "metadata": {
    "colab": {},
    "colab_type": "code",
    "id": "rpUDNSBlOXdt"
   },
   "outputs": [],
   "source": []
  }
 ],
 "metadata": {
  "accelerator": "GPU",
  "colab": {
   "collapsed_sections": [],
   "machine_shape": "hm",
   "name": "yelp_loner_cv.ipynb",
   "provenance": []
  },
  "kernelspec": {
   "display_name": "Python 3",
   "language": "python",
   "name": "python3"
  },
  "language_info": {
   "codemirror_mode": {
    "name": "ipython",
    "version": 3
   },
   "file_extension": ".py",
   "mimetype": "text/x-python",
   "name": "python",
   "nbconvert_exporter": "python",
   "pygments_lexer": "ipython3",
   "version": "3.7.4"
  }
 },
 "nbformat": 4,
 "nbformat_minor": 1
}
